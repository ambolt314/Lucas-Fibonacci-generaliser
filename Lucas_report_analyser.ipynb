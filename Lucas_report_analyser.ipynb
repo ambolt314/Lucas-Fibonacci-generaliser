{
  "nbformat": 4,
  "nbformat_minor": 0,
  "metadata": {
    "colab": {
      "name": "Lucas report analyser.ipynb",
      "provenance": [],
      "authorship_tag": "ABX9TyMu3Jcllry5KJ4AKp/NPwwf",
      "include_colab_link": true
    },
    "kernelspec": {
      "name": "python3",
      "display_name": "Python 3"
    }
  },
  "cells": [
    {
      "cell_type": "markdown",
      "metadata": {
        "id": "view-in-github",
        "colab_type": "text"
      },
      "source": [
        "<a href=\"https://colab.research.google.com/github/ambolt314/Lucas-Fibonacci-generaliser/blob/master/Lucas_report_analyser.ipynb\" target=\"_parent\"><img src=\"https://colab.research.google.com/assets/colab-badge.svg\" alt=\"Open In Colab\"/></a>"
      ]
    },
    {
      "cell_type": "code",
      "metadata": {
        "id": "M9pauqeLla9Z",
        "colab_type": "code",
        "colab": {}
      },
      "source": [
        "sample_input = [{'F1': 1, 'F2': 1, 'x': 1, 'significant digits': 3, 'number of iterations': 8}, {'F1': 1, 'F2': 1, 'x': 1.1, 'significant digits': 3, 'number of iterations': 7}, {'F1': 1, 'F2': 1, 'x': 1.2000000000000002, 'significant digits': 3, 'number of iterations': 6}, {'F1': 1, 'F2': 1, 'x': 1.3000000000000003, 'significant digits': 3, 'number of iterations': 5}, {'F1': 1, 'F2': 1, 'x': 1.4000000000000004, 'significant digits': 3, 'number of iterations': 4}, {'F1': 1, 'F2': 1, 'x': 1.5000000000000004, 'significant digits': 3, 'number of iterations': 3}, {'F1': 1, 'F2': 1, 'x': 1.6000000000000005, 'significant digits': 3, 'number of iterations': 2}, {'F1': 1, 'F2': 1, 'x': 1.7000000000000006, 'significant digits': 3, 'number of iterations': 3}, {'F1': 1, 'F2': 1, 'x': 1.8000000000000007, 'significant digits': 3, 'number of iterations': 4}, {'F1': 1, 'F2': 1, 'x': 1.9000000000000008, 'significant digits': 3, 'number of iterations': 5}, {'F1': 1, 'F2': 1, 'x': 2.000000000000001, 'significant digits': 3, 'number of iterations': 6}, {'F1': 1, 'F2': 1, 'x': 2.100000000000001, 'significant digits': 3, 'number of iterations': 7}, {'F1': 1, 'F2': 1, 'x': 2.200000000000001, 'significant digits': 3, 'number of iterations': 8}, {'F1': 1, 'F2': 1, 'x': 2.300000000000001, 'significant digits': 3, 'number of iterations': 10}, {'F1': 1, 'F2': 1, 'x': 2.4000000000000012, 'significant digits': 3, 'number of iterations': 12}, {'F1': 1, 'F2': 1, 'x': 2.5000000000000013, 'significant digits': 3, 'number of iterations': 15}, {'F1': 1, 'F2': 1, 'x': 2.6000000000000014, 'significant digits': 3, 'number of iterations': 22}, {'F1': 1, 'F2': 1, 'x': 2.7000000000000015, 'significant digits': 3, 'number of iterations': 23}, {'F1': 1, 'F2': 1, 'x': 2.8000000000000016, 'significant digits': 3, 'number of iterations': 26}, {'F1': 1, 'F2': 1, 'x': 2.9000000000000017, 'significant digits': 3, 'number of iterations': 32}]"
      ],
      "execution_count": 0,
      "outputs": []
    },
    {
      "cell_type": "code",
      "metadata": {
        "id": "kiXohJ54drXL",
        "colab_type": "code",
        "colab": {}
      },
      "source": [
        "def extract_data(list, field):\n",
        "  output = []\n",
        "\n",
        "  for item in list:\n",
        "    try:\n",
        "      output.append(item[field])\n",
        "    except KeyError:\n",
        "      return \"The key you have entered is invalid\"\n",
        "  return [field, output]"
      ],
      "execution_count": 0,
      "outputs": []
    },
    {
      "cell_type": "code",
      "metadata": {
        "id": "zZQnIpZCg4a_",
        "colab_type": "code",
        "colab": {}
      },
      "source": [
        "def plot(X, Y):\n",
        "  import matplotlib.pyplot as plt\n",
        "  plt.plot(X[1], Y[1], 'b*')\n",
        "  plt.xlabel(X[0])\n",
        "  plt.ylabel(Y[0])\n"
      ],
      "execution_count": 0,
      "outputs": []
    },
    {
      "cell_type": "code",
      "metadata": {
        "id": "CysCbXTUg6ib",
        "colab_type": "code",
        "colab": {
          "base_uri": "https://localhost:8080/",
          "height": 279
        },
        "outputId": "2d77dbc7-5a50-46cf-a867-2a5b09f26edb"
      },
      "source": [
        "x_value = extract_data(sample_input, \"x\")\n",
        "iterations = extract_data(sample_input, \"number of iterations\")\n",
        "\n",
        "plot(x_value, iterations)"
      ],
      "execution_count": 39,
      "outputs": [
        {
          "output_type": "display_data",
          "data": {
            "image/png": "[encoded data removed]",
            "text/plain": [
              "<Figure size 432x288 with 1 Axes>"
            ]
          },
          "metadata": {
            "tags": [],
            "needs_background": "light"
          }
        }
      ]
    },
    {
      "cell_type": "code",
      "metadata": {
        "id": "BgIJ01LdjJ6L",
        "colab_type": "code",
        "colab": {}
      },
      "source": [
        ""
      ],
      "execution_count": 0,
      "outputs": []
    }
  ]
}