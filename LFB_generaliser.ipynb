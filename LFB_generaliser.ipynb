{
  "nbformat": 4,
  "nbformat_minor": 0,
  "metadata": {
    "colab": {
      "name": "LFB generaliser.ipynb",
      "provenance": [],
      "authorship_tag": "ABX9TyMezmGSQUHJxy5NnRSoFa4E",
      "include_colab_link": true
    },
    "kernelspec": {
      "name": "python3",
      "display_name": "Python 3"
    }
  },
  "cells": [
    {
      "cell_type": "markdown",
      "metadata": {
        "id": "view-in-github",
        "colab_type": "text"
      },
      "source": [
        "<a href=\"https://colab.research.google.com/github/ambolt314/Lucas-Fibonacci-generaliser/blob/master/LFB_generaliser.ipynb\" target=\"_parent\"><img src=\"https://colab.research.google.com/assets/colab-badge.svg\" alt=\"Open In Colab\"/></a>"
      ]
    },
    {
      "cell_type": "code",
      "metadata": {
        "id": "kd3n0QXxmY6g",
        "colab_type": "code",
        "colab": {}
      },
      "source": [
        "# LFB - Lucas, Fibonacci, Bolt generaliser\n",
        "# Intended to calculate the fastest convergence to the Golden Ratio\n",
        "# given a set of initial parameters\n",
        "\n",
        "class Environment:\n",
        "\n",
        "  def __init__(self, f_one = 1, f_two = 1, x = 1, significant_digits = 3):\n",
        "    self.f_one = f_one\n",
        "    self.f_two = f_two\n",
        "    self.x = x\n",
        "    self.significant_digits = significant_digits\n",
        "\n",
        "  # Numerical constants - DO NOT CHANGE\n",
        "  from decimal import Decimal\n",
        "  root_five = Decimal(5 ** 0.5)\n",
        "  golden_ratio = (1 + root_five) / 2\n",
        "  \n",
        "  # Report generation functions\n",
        "  def get_next_term(n_minus_1, n_minus_2, x):\n",
        "    return ((x* n_minus_1) + ((3 + root_five - x*(1 + root_five))/2)*n_minus_2)\n",
        "\n",
        "  def generate_report(self):\n",
        "    report = {}\n",
        "    sequence = [Decimal(self.f_one), Decimal(self.f_two)]\n",
        "\n",
        "    n = 0\n",
        "\n",
        "    while round(sequence[-1]/sequence[-2], self.significant_digits) != round(golden_ratio, self.significant_digits):\n",
        "      sequence.append(get_next_term(sequence[-1], sequence[-2], self.x))\n",
        "      n += 1\n",
        "    \n",
        "    report['F1'] = self.f_one\n",
        "    report['F2'] = self.f_two\n",
        "    report['x'] = self.x\n",
        "    report['significant digits'] = self.significant_digits\n",
        "    report['number of iterations'] = n\n",
        "\n",
        "    return report\n",
        "\n",
        "  def generate_multiple_x_reports_up_to(self, limit):\n",
        "    output = {}\n",
        "    for i in range(1, limit + 1):\n",
        "      output['report-' + str(i)] = generate_report(self.f_one, self.f_two, i, self.significant_digits)\n",
        "      print(output)\n",
        "    return output"
      ],
      "execution_count": 0,
      "outputs": []
    },
    {
      "cell_type": "code",
      "metadata": {
        "id": "KJUAUBMIowNl",
        "colab_type": "code",
        "colab": {
          "base_uri": "https://localhost:8080/",
          "height": 34
        },
        "outputId": "b18c9795-bf19-477e-8315-192da0a6026f"
      },
      "source": [
        "env = Environment()\n",
        "env.generate_report()"
      ],
      "execution_count": 140,
      "outputs": [
        {
          "output_type": "execute_result",
          "data": {
            "text/plain": [
              "{'F1': 1, 'F2': 1, 'number of iterations': 8, 'significant digits': 3, 'x': 1}"
            ]
          },
          "metadata": {
            "tags": []
          },
          "execution_count": 140
        }
      ]
    },
    {
      "cell_type": "code",
      "metadata": {
        "id": "2vO9HSWio4Ur",
        "colab_type": "code",
        "colab": {}
      },
      "source": [
        ""
      ],
      "execution_count": 0,
      "outputs": []
    }
  ]
}