{
  "nbformat": 4,
  "nbformat_minor": 0,
  "metadata": {
    "colab": {
      "name": "LFB generaliser.ipynb",
      "provenance": [],
      "authorship_tag": "ABX9TyN+seSS1PaNTV1ypOLe9Q1S",
      "include_colab_link": true
    },
    "kernelspec": {
      "name": "python3",
      "display_name": "Python 3"
    }
  },
  "cells": [
    {
      "cell_type": "markdown",
      "metadata": {
        "id": "view-in-github",
        "colab_type": "text"
      },
      "source": [
        "<a href=\"https://colab.research.google.com/github/ambolt314/Lucas-Fibonacci-generaliser/blob/master/LFB_generaliser.ipynb\" target=\"_parent\"><img src=\"https://colab.research.google.com/assets/colab-badge.svg\" alt=\"Open In Colab\"/></a>"
      ]
    },
    {
      "cell_type": "code",
      "metadata": {
        "id": "1W-6kvTzIgA5",
        "colab_type": "code",
        "colab": {}
      },
      "source": [
        "# LFB - Lucas, Fibonacci, Bolt generaliser\n",
        "# Intended to calculate the fastest convergence to the Golden Ratio\n",
        "# given a set of initial parameters\n",
        "\n",
        "from decimal import Decimal\n",
        "root_five = Decimal(5 ** 0.5)\n",
        "golden_ratio = (1 + root_five) / 2\n",
        "\n",
        "def get_next_term(n_minus_1, n_minus_2, x):\n",
        "  return ((x* n_minus_1) + ((3 + root_five - x*(1 + root_five))/2)*n_minus_2)\n"
      ],
      "execution_count": 0,
      "outputs": []
    },
    {
      "cell_type": "code",
      "metadata": {
        "id": "PNLH9ll6LPwD",
        "colab_type": "code",
        "colab": {}
      },
      "source": [
        "def generate_report(f_one, f_two, x, significant_digits):\n",
        "  report = {}\n",
        "  sequence = [Decimal(f_one), Decimal(f_two)]\n",
        "\n",
        "  n = 0\n",
        "\n",
        "\n",
        "  while round(sequence[-1]/sequence[-2], significant_digits) != round(golden_ratio, significant_digits):\n",
        "    sequence.append(get_next_term(sequence[-1], sequence[-2], x))\n",
        "    n += 1\n",
        "  report['F1'] = f_one\n",
        "  report['F2'] = f_two\n",
        "  report['x'] = x\n",
        "  report['significant digits'] = significant_digits\n",
        "  report['number of iterations'] = n\n",
        "\n",
        "  return report\n",
        "    "
      ],
      "execution_count": 0,
      "outputs": []
    }
  ]
}