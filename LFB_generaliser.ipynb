{
  "nbformat": 4,
  "nbformat_minor": 0,
  "metadata": {
    "colab": {
      "name": "LFB generaliser.ipynb",
      "provenance": [],
      "authorship_tag": "ABX9TyMmABoia6NV8sxl5rZmTnv/",
      "include_colab_link": true
    },
    "kernelspec": {
      "name": "python3",
      "display_name": "Python 3"
    }
  },
  "cells": [
    {
      "cell_type": "markdown",
      "metadata": {
        "id": "view-in-github",
        "colab_type": "text"
      },
      "source": [
        "<a href=\"https://colab.research.google.com/github/ambolt314/Lucas-Fibonacci-generaliser/blob/master/LFB_generaliser.ipynb\" target=\"_parent\"><img src=\"https://colab.research.google.com/assets/colab-badge.svg\" alt=\"Open In Colab\"/></a>"
      ]
    },
    {
      "cell_type": "code",
      "metadata": {
        "id": "kd3n0QXxmY6g",
        "colab_type": "code",
        "colab": {}
      },
      "source": [
        "# LFB - Lucas, Fibonacci, Bolt generaliser\n",
        "# Intended to calculate the fastest convergence to the Golden Ratio\n",
        "# given a set of initial parameters\n",
        "\n",
        "from decimal import Decimal\n",
        "root_five = Decimal(5 ** 0.5)\n",
        "golden_ratio = (1 + root_five) / 2\n",
        "\n",
        "class Environment:\n",
        "\n",
        "  def __init__(self, f_one = 1, f_two = 1, x = 1, significant_digits = 3):\n",
        "    self.f_one = f_one\n",
        "    self.f_two = f_two\n",
        "    self.x = x\n",
        "    self.significant_digits = significant_digits\n",
        "\n",
        "  # Report generation functions\n",
        "  def get_next_term(self, n_minus_1, n_minus_2, x):\n",
        "    return ((x* n_minus_1) + ((3 + root_five - x*(1 + root_five))/2)*n_minus_2)\n",
        "\n",
        "  def generate_report(self, f_one, f_two, x, significant_digits):\n",
        "    report = {}\n",
        "    sequence = [Decimal(f_one), Decimal(f_two)]\n",
        "\n",
        "    n = 0\n",
        "\n",
        "    while round(sequence[-1]/sequence[-2], significant_digits) != round(golden_ratio, significant_digits):\n",
        "      sequence.append(self.get_next_term(sequence[-1], sequence[-2], x))\n",
        "      n += 1\n",
        "    \n",
        "    report['F1'] = f_one\n",
        "    report['F2'] = f_two\n",
        "    report['x'] = x\n",
        "    report['significant digits'] = significant_digits\n",
        "    report['number of iterations'] = n\n",
        "\n",
        "    return report\n",
        "\n",
        "  def multiple_x(self):\n",
        "    output = {}\n",
        "    for i in range(1, self.x + 1):\n",
        "      output['report-' + str(i)] = self.generate_report(self.f_one, self.f_two, i, self.significant_digits)\n",
        "    return output\n",
        "\n",
        "  def multiple_sigfig(self):\n",
        "    output = {}\n",
        "    for i in range(1, self.significant_digits + 1):\n",
        "      output['report-' + str(i)] = self.generate_report(self.f_one, self.f_two, self.x, i)\n",
        "    return output\n",
        "\n",
        "  def multiple_f_one(self):\n",
        "    output = {}\n",
        "    for i in range(1, self.f_one + 1):\n",
        "      output['report-' + str(i)] = self.generate_report(i, self.f_two, self.x, self.significant_digits)\n",
        "    return output\n",
        "\n",
        "  def multiple_f_two(self):\n",
        "    output = {}\n",
        "    for i in range(1, self.f_two + 1):\n",
        "      output['report-' + str(i)] = self.generate_report(self.f_one, i, self.x, self.significant_digits)\n",
        "    return output"
      ],
      "execution_count": 0,
      "outputs": []
    },
    {
      "cell_type": "code",
      "metadata": {
        "id": "VSqYC075XSnB",
        "colab_type": "code",
        "colab": {
          "base_uri": "https://localhost:8080/",
          "height": 34
        },
        "outputId": "186c934c-6aa4-47d1-c722-f801e0ef7977"
      },
      "source": [
        "env = Environment(1, 1, 1, 3)\n",
        "# env.generate_report(env.f_one, env.f_two, env.x, env.significant_digits)\n",
        "# report = env.multiple_x()\n",
        "# report = env.multiple_sigfig()\n",
        "report = env.multiple_f_two()\n",
        "\n",
        "print(report)"
      ],
      "execution_count": 48,
      "outputs": [
        {
          "output_type": "stream",
          "text": [
            "{'report-1': {'F1': 1, 'F2': 1, 'x': 1, 'significant digits': 3, 'number of iterations': 8}}\n"
          ],
          "name": "stdout"
        }
      ]
    },
    {
      "cell_type": "code",
      "metadata": {
        "id": "C_muhpJ_XXDx",
        "colab_type": "code",
        "colab": {}
      },
      "source": [
        ""
      ],
      "execution_count": 0,
      "outputs": []
    }
  ]
}