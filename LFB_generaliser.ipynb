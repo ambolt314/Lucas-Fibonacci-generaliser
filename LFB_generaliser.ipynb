{
  "nbformat": 4,
  "nbformat_minor": 0,
  "metadata": {
    "colab": {
      "name": "LFB generaliser.ipynb",
      "provenance": [],
      "collapsed_sections": [],
      "authorship_tag": "ABX9TyN83kt6SAslZsF7+Kc1DFEl",
      "include_colab_link": true
    },
    "kernelspec": {
      "name": "python3",
      "display_name": "Python 3"
    }
  },
  "cells": [
    {
      "cell_type": "markdown",
      "metadata": {
        "id": "view-in-github",
        "colab_type": "text"
      },
      "source": [
        "<a href=\"https://colab.research.google.com/github/ambolt314/Lucas-Fibonacci-generaliser/blob/master/LFB_generaliser.ipynb\" target=\"_parent\"><img src=\"https://colab.research.google.com/assets/colab-badge.svg\" alt=\"Open In Colab\"/></a>"
      ]
    },
    {
      "cell_type": "code",
      "metadata": {
        "id": "kd3n0QXxmY6g",
        "colab_type": "code",
        "colab": {}
      },
      "source": [
        "# LFB - Lucas, Fibonacci, Bolt generaliser\n",
        "# Intended to calculate the fastest convergence to the Golden Ratio\n",
        "# given a set of initial parameters\n",
        "\n",
        "from decimal import Decimal\n",
        "root_five = Decimal(5 ** 0.5)\n",
        "golden_ratio = (1 + root_five) / 2\n",
        "\n",
        "class Environment:\n",
        "\n",
        "  def __init__(self, f_one = 1, f_two = 1, x = 1, significant_digits = 3, ratio = golden_ratio, step = 1):\n",
        "    self.f_one = f_one\n",
        "    self.f_two = f_two\n",
        "    self.x = x\n",
        "    self.significant_digits = significant_digits\n",
        "    self.ratio = ratio\n",
        "    self.step = step\n",
        "\n",
        "  # Report generation functions\n",
        "  def get_next_term(self, n_minus_1, n_minus_2, x):\n",
        "    return (Decimal(x)*Decimal(n_minus_1)) + (Decimal(self.ratio)*(Decimal(self.ratio) - Decimal(x))*Decimal(n_minus_2))\n",
        "\n",
        "  def generate_report(self, f_one, f_two, x, significant_digits):\n",
        "    report = {}\n",
        "    sequence = [Decimal(f_one), Decimal(f_two)]\n",
        "\n",
        "    n = 0\n",
        "\n",
        "    while round(sequence[-1]/sequence[-2], significant_digits) != round(self.ratio, significant_digits):\n",
        "      sequence.append(self.get_next_term(sequence[-1], sequence[-2], x))\n",
        "      n += 1\n",
        "    \n",
        "    report['ratio'] = self.ratio\n",
        "    report['F1'] = f_one\n",
        "    report['F2'] = f_two\n",
        "    report['x'] = x\n",
        "    report['significant digits'] = significant_digits\n",
        "    report['number of iterations'] = n\n",
        "\n",
        "    return report\n",
        "\n",
        "  def multiple_x(self):\n",
        "    output = []\n",
        "    \n",
        "    i = 1\n",
        "\n",
        "    while i <= self.x:\n",
        "      output.append(self.generate_report(self.f_one, self.f_two, i, self.significant_digits))\n",
        "      i += self.step\n",
        "\n",
        "    return output\n",
        "\n",
        "  def multiple_sigfig(self):\n",
        "    output = []\n",
        "\n",
        "    for i in range(1, self.significant_digits + 1):\n",
        "      output.append(self.generate_report(self.f_one, self.f_two, self.x, i))\n",
        "    return output\n",
        "\n",
        "  def multiple_f_one(self):\n",
        "    output = []\n",
        "    i = 1\n",
        "\n",
        "    while i <= self.f_one:\n",
        "      output.append(self.generate_report(i, self.f_two, self.x, self.significant_digits))\n",
        "      i += self.step\n",
        "    return output\n",
        "\n",
        "  def multiple_f_two(self):\n",
        "    output = []\n",
        "    i = 1\n",
        "\n",
        "    while i <= self.f_two:\n",
        "      output.append(self.generate_report(self.f_one, i, self.x, self.significant_digits))\n",
        "      i += self.step\n",
        "    return output"
      ],
      "execution_count": 0,
      "outputs": []
    },
    {
      "cell_type": "code",
      "metadata": {
        "id": "xrfiQVR4kKLP",
        "colab_type": "code",
        "colab": {
          "base_uri": "https://localhost:8080/",
          "height": 34
        },
        "outputId": "8c398994-1c1e-4f7a-db8c-6df9a38e7ce1"
      },
      "source": [
        "env = Environment(1, 1, 1, 3)\n",
        "report = env.multiple_x()\n",
        "# report = env.multiple_sigfig()\n",
        "# report = env.multiple_f_one()\n",
        "# report = env.multiple_f_two()\n",
        "print(report)"
      ],
      "execution_count": 109,
      "outputs": [
        {
          "output_type": "stream",
          "text": [
            "[{'ratio': Decimal('1.618033988749894902525738871'), 'F1': 1, 'F2': 1, 'x': 1, 'significant digits': 3, 'number of iterations': 8}]\n"
          ],
          "name": "stdout"
        }
      ]
    },
    {
      "cell_type": "code",
      "metadata": {
        "id": "7agHl0mhkSXU",
        "colab_type": "code",
        "colab": {}
      },
      "source": [
        ""
      ],
      "execution_count": 0,
      "outputs": []
    }
  ]
}